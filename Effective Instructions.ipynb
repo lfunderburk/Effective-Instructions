{
 "cells": [
  {
   "cell_type": "markdown",
   "metadata": {},
   "source": [
    "# Instructions"
   ]
  },
  {
   "cell_type": "code",
   "execution_count": null,
   "metadata": {},
   "outputs": [],
   "source": [
    "# add description on the research question and the 7 treatments"
   ]
  },
  {
   "cell_type": "code",
   "execution_count": null,
   "metadata": {},
   "outputs": [],
   "source": [
    "#!pip install ipywidgets\n",
    "#!jupyter nbextension enable --py widgetsnbextension"
   ]
  },
  {
   "cell_type": "code",
   "execution_count": 1,
   "metadata": {},
   "outputs": [],
   "source": [
    "import seaborn as sns\n",
    "import pandas as pd\n",
    "import matplotlib.pyplot as plt\n",
    "import ipywidgets as widgets\n",
    "from IPython.display import display"
   ]
  },
  {
   "cell_type": "code",
   "execution_count": 2,
   "metadata": {},
   "outputs": [
    {
     "name": "stdout",
     "output_type": "stream",
     "text": [
      "{'shape': (308, 32)}\n"
     ]
    }
   ],
   "source": [
    "%run -i ./Scripts/Instructions.py \"D:\\Code for GitHub\\Effective-Instructions\\Data\\CompiledData-earnings.csv\" \"QuizScore\" \"t2,t3,t4,t5,t6,t7\" \"t2\""
   ]
  },
  {
   "cell_type": "code",
   "execution_count": 3,
   "metadata": {},
   "outputs": [],
   "source": [
    "dat_plot = reg.transform_data()\n",
    "table_plot = dat_plot.groupby(by = 'treat').NMB.mean().reset_index(name = 'Average')"
   ]
  },
  {
   "cell_type": "code",
   "execution_count": 4,
   "metadata": {},
   "outputs": [
    {
     "data": {
      "image/png": "[encoded data removed]",
      "text/plain": [
       "<Figure size 720x576 with 1 Axes>"
      ]
     },
     "metadata": {
      "needs_background": "light"
     },
     "output_type": "display_data"
    }
   ],
   "source": [
    "plt.figure(figsize = (10,8))\n",
    "sns.barplot(x = 'treat', y = 'Average', data = table_plot)\n",
    "plt.title(\"Average NMB by treatment\"); # add ; to get rid of the text above the plot"
   ]
  },
  {
   "cell_type": "code",
   "execution_count": null,
   "metadata": {},
   "outputs": [],
   "source": [
    "# plot QuizScore distribution by treatment\n",
    "#sns.pairplot(dat_plot[['treat','QuizScore']], hue='treat')\n",
    "fig,ax=plt.subplots(figsize=(10,8))\n",
    "sns.boxplot(x = 'treat', y = 'QuizScore', data = dat_plot,  hue = 'treat', ax = ax)"
   ]
  },
  {
   "cell_type": "code",
   "execution_count": 6,
   "metadata": {},
   "outputs": [],
   "source": [
    "style = {'description_width': 'initial'}\n",
    "treat_var = widgets.Dropdown(\n",
    "    options=['t2', 't3', 't4','t5', 't6', 't7'],\n",
    "    value='t2',\n",
    "    description='Treatment variable',\n",
    "    disabled=False,\n",
    "    style=style\n",
    ")"
   ]
  },
  {
   "cell_type": "code",
   "execution_count": 7,
   "metadata": {
    "scrolled": true
   },
   "outputs": [
    {
     "data": {
      "application/vnd.jupyter.widget-view+json": {
       "model_id": "29336d30a8464aa3bdba80099594de0e",
       "version_major": 2,
       "version_minor": 0
      },
      "text/plain": [
       "Dropdown(description='Treatment variable', options=('t2', 't3', 't4', 't5', 't6', 't7'), style=DescriptionStyl…"
      ]
     },
     "metadata": {},
     "output_type": "display_data"
    },
    {
     "data": {
      "image/png": "[encoded data removed]",
      "text/plain": [
       "<Figure size 432x288 with 1 Axes>"
      ]
     },
     "metadata": {
      "needs_background": "light"
     },
     "output_type": "display_data"
    }
   ],
   "source": [
    "display(treat_var)\n",
    "sns.distplot(dat_plot[dat_plot['treat'] == treat_var.value]['QuizScore'])\n",
    "plt.ylabel(\"Percentage\")\n",
    "plt.xlim([0,7])\n",
    "plt.title(\"Quiz score distribution for treatment {}\".format(treat_var.value));"
   ]
  },
  {
   "cell_type": "code",
   "execution_count": null,
   "metadata": {},
   "outputs": [],
   "source": [
    "display(treat_var)\n",
    "#sns.distplot(dat_plot[dat_plot['treat'] == treat_var.value]['QuizScore'])\n",
    "#print(reg.l_reg(input_baseline))\n",
    "print(reg.l_reg(treat_var.value))"
   ]
  },
  {
   "cell_type": "code",
   "execution_count": 5,
   "metadata": {},
   "outputs": [
    {
     "name": "stdout",
     "output_type": "stream",
     "text": [
      "Optimization terminated successfully.\n",
      "         Current function value: 0.606918\n",
      "         Iterations 5\n",
      "                           Logit Regression Results                           \n",
      "==============================================================================\n",
      "Dep. Variable:                    NMB   No. Observations:                  308\n",
      "Model:                          Logit   Df Residuals:                      303\n",
      "Method:                           MLE   Df Model:                            4\n",
      "Date:                Mon, 15 Mar 2021   Pseudo R-squ.:                 0.03716\n",
      "Time:                        17:47:15   Log-Likelihood:                -186.93\n",
      "converged:                       True   LL-Null:                       -194.15\n",
      "Covariance Type:            nonrobust   LLR p-value:                  0.006042\n",
      "==============================================================================\n",
      "                 coef    std err          z      P>|z|      [0.025      0.975]\n",
      "------------------------------------------------------------------------------\n",
      "t4            -1.1701      0.382     -3.066      0.002      -1.918      -0.422\n",
      "t7            -1.2879      0.399     -3.225      0.001      -2.071      -0.505\n",
      "t5            -1.4881      0.418     -3.556      0.000      -2.308      -0.668\n",
      "t2            -0.1054      0.230     -0.459      0.647      -0.556       0.345\n",
      "t6            -1.2368      0.379     -3.266      0.001      -1.979      -0.495\n",
      "==============================================================================\n"
     ]
    }
   ],
   "source": [
    "print(reg.logistic_reg(\"t3\"))"
   ]
  },
  {
   "cell_type": "code",
   "execution_count": null,
   "metadata": {},
   "outputs": [],
   "source": []
  }
 ],
 "metadata": {
  "kernelspec": {
   "display_name": "Python 3",
   "language": "python",
   "name": "python3"
  },
  "language_info": {
   "codemirror_mode": {
    "name": "ipython",
    "version": 3
   },
   "file_extension": ".py",
   "mimetype": "text/x-python",
   "name": "python",
   "nbconvert_exporter": "python",
   "pygments_lexer": "ipython3",
   "version": "3.8.3"
  }
 },
 "nbformat": 4,
 "nbformat_minor": 4
}
